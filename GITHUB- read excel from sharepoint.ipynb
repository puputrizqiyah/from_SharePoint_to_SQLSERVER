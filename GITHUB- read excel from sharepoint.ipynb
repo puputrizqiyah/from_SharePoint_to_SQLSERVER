{
 "cells": [
  {
   "cell_type": "markdown",
   "metadata": {},
   "source": [
    "# Read File draft sharepoint.xlsx "
   ]
  },
  {
   "cell_type": "markdown",
   "metadata": {},
   "source": [
    "## Import Library "
   ]
  },
  {
   "cell_type": "markdown",
   "metadata": {},
   "source": [
    "Designed By: Putri Rizqiyah and Collaboration with Mba Dewi"
   ]
  },
  {
   "cell_type": "code",
   "execution_count": 1,
   "metadata": {},
   "outputs": [],
   "source": [
    "# https://pypi.org/project/Office365-REST-Python-Client/ --> Install Module 0365\n",
    "from office365.runtime.auth.authentication_context import AuthenticationContext\n",
    "from office365.sharepoint.client_context import ClientContext\n",
    "from office365.sharepoint.files.file import File\n",
    "from office365.sharepoint.files.file import File "
   ]
  },
  {
   "cell_type": "markdown",
   "metadata": {},
   "source": [
    "## URL Authentication"
   ]
  },
  {
   "cell_type": "code",
   "execution_count": 2,
   "metadata": {},
   "outputs": [
    {
     "name": "stderr",
     "output_type": "stream",
     "text": [
      "C:\\Users\\Fineoz-DS\\Anaconda3\\lib\\site-packages\\cryptography\\hazmat\\backends\\openssl\\x509.py:18: CryptographyDeprecationWarning: This version of cryptography contains a temporary pyOpenSSL fallback path. Upgrade pyOpenSSL now.\n",
      "  utils.DeprecatedIn35,\n"
     ]
    }
   ],
   "source": [
    "#https://tmtgroup.sharepoint.com/teams/ECDashboard\n",
    "#/teams/ECDashboard/Shared Documents/draft sharepoint.xlsx\n",
    "#https://tmtgroup.sharepoint.com/:x:/r/teams/ECDashboard/Shared%20Documents/draft%20sharepoint.xlsx?d=w667e81229542475c99c76758000f4185&csf=1&web=1&e=GHfPro\n",
    "\n",
    "url = 'https://xxx.sharepoint.com/teams/ABC'\n",
    "relative_url = '/teams/ABC/Shared Documents/file.xlsx'\n",
    "username = '123@abc.co.id'\n",
    "password = 'ABC23A'\n",
    "relative_url_1 = '/teams/ABC/Shared Documents/file.xlsx'\n",
    "\n",
    "\n",
    "ctx_auth = AuthenticationContext(url)\n",
    "ctx_auth.acquire_token_for_user(username, password)\n",
    "ctx = ClientContext(url, ctx_auth)\n",
    "# response = File.open_binary(ctx, \"draft sharepoint.xlsx\")\n",
    "# response = File.open_binary(ctx, \"teams/ECDashboard/Shared Documents/draft sharepoint.xlsx\")\n",
    "\n",
    "# with open(\"draft sharepoint.xlsx\", \"wb\") as local_file:\n",
    "#        local_file.write(response.content)\n",
    "# df = pd.read_excel('draft sharepoint.xlsx')\n",
    "\n"
   ]
  },
  {
   "cell_type": "markdown",
   "metadata": {},
   "source": [
    "# Check If URL is working "
   ]
  },
  {
   "cell_type": "code",
   "execution_count": 3,
   "metadata": {},
   "outputs": [
    {
     "name": "stdout",
     "output_type": "stream",
     "text": [
      "Web title: EC Dashboard\n"
     ]
    }
   ],
   "source": [
    "ctx_auth = AuthenticationContext(url)\n",
    "if ctx_auth.acquire_token_for_user(username, password):\n",
    "    ctx = ClientContext(url, ctx_auth)\n",
    "    web = ctx.web\n",
    "    ctx.load(web)\n",
    "    ctx.execute_query()\n",
    "    print(\"Web title: {0}\".format(web.properties['Title']))\n",
    "\n",
    "else:\n",
    "    print(ctx_auth.get_last_error())"
   ]
  },
  {
   "cell_type": "markdown",
   "metadata": {},
   "source": [
    "## Read File from Sharepoint (draft sharepoint.xlsx)"
   ]
  },
  {
   "cell_type": "code",
   "execution_count": 4,
   "metadata": {},
   "outputs": [
    {
     "name": "stderr",
     "output_type": "stream",
     "text": [
      "C:\\Users\\Fineoz-DS\\Anaconda3\\lib\\site-packages\\cryptography\\hazmat\\backends\\openssl\\x509.py:18: CryptographyDeprecationWarning: This version of cryptography contains a temporary pyOpenSSL fallback path. Upgrade pyOpenSSL now.\n",
      "  utils.DeprecatedIn35,\n"
     ]
    },
    {
     "data": {
      "text/html": [
       "<div>\n",
       "<style scoped>\n",
       "    .dataframe tbody tr th:only-of-type {\n",
       "        vertical-align: middle;\n",
       "    }\n",
       "\n",
       "    .dataframe tbody tr th {\n",
       "        vertical-align: top;\n",
       "    }\n",
       "\n",
       "    .dataframe thead th {\n",
       "        text-align: right;\n",
       "    }\n",
       "</style>\n",
       "<table border=\"1\" class=\"dataframe\">\n",
       "  <thead>\n",
       "    <tr style=\"text-align: right;\">\n",
       "      <th></th>\n",
       "      <th>NO</th>\n",
       "      <th>OpportunityID</th>\n",
       "      <th>OpportunityItemNo</th>\n",
       "      <th>SOID</th>\n",
       "      <th>SOItemNo</th>\n",
       "      <th>AccountID</th>\n",
       "      <th>AccountName</th>\n",
       "      <th>sales_off_code</th>\n",
       "      <th>SalesOfficeArea</th>\n",
       "      <th>SalesRepsName</th>\n",
       "      <th>...</th>\n",
       "      <th>ProductDescription</th>\n",
       "      <th>MarketSector</th>\n",
       "      <th>PointOfDelivery</th>\n",
       "      <th>DeliveryDate</th>\n",
       "      <th>NetValue</th>\n",
       "      <th>Currency</th>\n",
       "      <th>ProductHierarchy</th>\n",
       "      <th>FORECAST</th>\n",
       "      <th>sales_type</th>\n",
       "      <th>Vertical_Industry</th>\n",
       "    </tr>\n",
       "  </thead>\n",
       "  <tbody>\n",
       "    <tr>\n",
       "      <th>0</th>\n",
       "      <td>1</td>\n",
       "      <td>50000000</td>\n",
       "      <td>30</td>\n",
       "      <td>0</td>\n",
       "      <td>0</td>\n",
       "      <td>1</td>\n",
       "      <td>TBA</td>\n",
       "      <td>0G31</td>\n",
       "      <td>Northern Kalimantan</td>\n",
       "      <td>NaN</td>\n",
       "      <td>...</td>\n",
       "      <td>320 NG-CFG1B/CAB/HDB 1.19CUM/PLE742</td>\n",
       "      <td>CONSTRUCTION</td>\n",
       "      <td>Balikpapan</td>\n",
       "      <td>2021-09-02</td>\n",
       "      <td>114410.91</td>\n",
       "      <td>USD</td>\n",
       "      <td>M11C0000320NGH</td>\n",
       "      <td>YES</td>\n",
       "      <td>PP</td>\n",
       "      <td>NaN</td>\n",
       "    </tr>\n",
       "    <tr>\n",
       "      <th>1</th>\n",
       "      <td>2</td>\n",
       "      <td>50000001</td>\n",
       "      <td>50</td>\n",
       "      <td>0</td>\n",
       "      <td>0</td>\n",
       "      <td>1</td>\n",
       "      <td>TBA</td>\n",
       "      <td>0G31</td>\n",
       "      <td>Northern Kalimantan</td>\n",
       "      <td>NaN</td>\n",
       "      <td>...</td>\n",
       "      <td>320GC-07D/XZ/CAB/GDB 1.0M3/PLE683/783</td>\n",
       "      <td>CONSTRUCTION</td>\n",
       "      <td>Balikpapan</td>\n",
       "      <td>2021-09-02</td>\n",
       "      <td>116949.51</td>\n",
       "      <td>USD</td>\n",
       "      <td>M11C0000320GCNGH</td>\n",
       "      <td>YES</td>\n",
       "      <td>PP</td>\n",
       "      <td>NaN</td>\n",
       "    </tr>\n",
       "    <tr>\n",
       "      <th>2</th>\n",
       "      <td>3</td>\n",
       "      <td>50000002</td>\n",
       "      <td>10</td>\n",
       "      <td>0</td>\n",
       "      <td>0</td>\n",
       "      <td>1</td>\n",
       "      <td>TBA</td>\n",
       "      <td>0G32</td>\n",
       "      <td>Northern Kalimantan</td>\n",
       "      <td>NaN</td>\n",
       "      <td>...</td>\n",
       "      <td>320GC-07D/XZ/CAB/GDB 1.0M3/PLE683/783</td>\n",
       "      <td>CONSTRUCTION</td>\n",
       "      <td>Samarinda</td>\n",
       "      <td>2021-09-02</td>\n",
       "      <td>116949.51</td>\n",
       "      <td>USD</td>\n",
       "      <td>M11C0000320GCNGH</td>\n",
       "      <td>YES</td>\n",
       "      <td>PP</td>\n",
       "      <td>NaN</td>\n",
       "    </tr>\n",
       "    <tr>\n",
       "      <th>3</th>\n",
       "      <td>4</td>\n",
       "      <td>50000003</td>\n",
       "      <td>20</td>\n",
       "      <td>0</td>\n",
       "      <td>0</td>\n",
       "      <td>1</td>\n",
       "      <td>TBA</td>\n",
       "      <td>0G32</td>\n",
       "      <td>Northern Kalimantan</td>\n",
       "      <td>NaN</td>\n",
       "      <td>...</td>\n",
       "      <td>320GC-07D/XZ/CAB/GDB 1.0M3/PLE683/783</td>\n",
       "      <td>CONSTRUCTION</td>\n",
       "      <td>Samarinda</td>\n",
       "      <td>2021-09-02</td>\n",
       "      <td>116949.51</td>\n",
       "      <td>USD</td>\n",
       "      <td>M11C0000320GCNGH</td>\n",
       "      <td>YES</td>\n",
       "      <td>PP</td>\n",
       "      <td>NaN</td>\n",
       "    </tr>\n",
       "    <tr>\n",
       "      <th>4</th>\n",
       "      <td>5</td>\n",
       "      <td>50000004</td>\n",
       "      <td>30</td>\n",
       "      <td>0</td>\n",
       "      <td>0</td>\n",
       "      <td>1</td>\n",
       "      <td>TBA</td>\n",
       "      <td>0G32</td>\n",
       "      <td>Northern Kalimantan</td>\n",
       "      <td>NaN</td>\n",
       "      <td>...</td>\n",
       "      <td>320GC-07D/XZ/CAB/GDB 1.0M3/PLE683/783</td>\n",
       "      <td>CONSTRUCTION</td>\n",
       "      <td>Samarinda</td>\n",
       "      <td>2021-09-02</td>\n",
       "      <td>116949.51</td>\n",
       "      <td>USD</td>\n",
       "      <td>M11C0000320GCNGH</td>\n",
       "      <td>YES</td>\n",
       "      <td>PP</td>\n",
       "      <td>NaN</td>\n",
       "    </tr>\n",
       "    <tr>\n",
       "      <th>5</th>\n",
       "      <td>6</td>\n",
       "      <td>50000005</td>\n",
       "      <td>10</td>\n",
       "      <td>0</td>\n",
       "      <td>0</td>\n",
       "      <td>1</td>\n",
       "      <td>PUSH SALES- CV. METRO JASA KENDANAGAN/PAK PIO</td>\n",
       "      <td>0A37</td>\n",
       "      <td>Southern Kalimantan</td>\n",
       "      <td>NaN</td>\n",
       "      <td>...</td>\n",
       "      <td>320GX/CAB/GDB 0.9M3/PL631</td>\n",
       "      <td>AGRICULTURE</td>\n",
       "      <td>Pontianak</td>\n",
       "      <td>2021-10-02</td>\n",
       "      <td>87334.73</td>\n",
       "      <td>USD</td>\n",
       "      <td>M11C0000320GX</td>\n",
       "      <td>YES</td>\n",
       "      <td>PP</td>\n",
       "      <td>NaN</td>\n",
       "    </tr>\n",
       "    <tr>\n",
       "      <th>6</th>\n",
       "      <td>7</td>\n",
       "      <td>50000006</td>\n",
       "      <td>10</td>\n",
       "      <td>0</td>\n",
       "      <td>0</td>\n",
       "      <td>1</td>\n",
       "      <td>TBA</td>\n",
       "      <td>0G31</td>\n",
       "      <td>Northern Kalimantan</td>\n",
       "      <td>NaN</td>\n",
       "      <td>...</td>\n",
       "      <td>320GC-07D/XZ/CAB/GDB 1.0M3/PLE683/783</td>\n",
       "      <td>CONSTRUCTION</td>\n",
       "      <td>Balikpapan</td>\n",
       "      <td>2021-10-02</td>\n",
       "      <td>96381.35</td>\n",
       "      <td>USD</td>\n",
       "      <td>M11C0000320GCNGH</td>\n",
       "      <td>YES</td>\n",
       "      <td>PP</td>\n",
       "      <td>NaN</td>\n",
       "    </tr>\n",
       "    <tr>\n",
       "      <th>7</th>\n",
       "      <td>8</td>\n",
       "      <td>50000007</td>\n",
       "      <td>10</td>\n",
       "      <td>0</td>\n",
       "      <td>0</td>\n",
       "      <td>1</td>\n",
       "      <td>TBA</td>\n",
       "      <td>0G32</td>\n",
       "      <td>Northern Kalimantan</td>\n",
       "      <td>NaN</td>\n",
       "      <td>...</td>\n",
       "      <td>320GC-07D/XZ/CAB/GDB 1.0M3/PLE683/783</td>\n",
       "      <td>CONSTRUCTION</td>\n",
       "      <td>Samarinda</td>\n",
       "      <td>2021-10-02</td>\n",
       "      <td>96381.35</td>\n",
       "      <td>USD</td>\n",
       "      <td>M11C0000320GCNGH</td>\n",
       "      <td>YES</td>\n",
       "      <td>PP</td>\n",
       "      <td>NaN</td>\n",
       "    </tr>\n",
       "    <tr>\n",
       "      <th>8</th>\n",
       "      <td>9</td>\n",
       "      <td>50000008</td>\n",
       "      <td>10</td>\n",
       "      <td>0</td>\n",
       "      <td>0</td>\n",
       "      <td>1</td>\n",
       "      <td>PUSH SALES</td>\n",
       "      <td>0F28</td>\n",
       "      <td>Southern Sumatera</td>\n",
       "      <td>NaN</td>\n",
       "      <td>...</td>\n",
       "      <td>305.5E2/CAB/GDB 0.22 CUM/PL243</td>\n",
       "      <td>CONSTRUCTION</td>\n",
       "      <td>Bengkulu</td>\n",
       "      <td>2021-10-02</td>\n",
       "      <td>97993.50</td>\n",
       "      <td>USD</td>\n",
       "      <td>M13C00305.5E2</td>\n",
       "      <td>YES</td>\n",
       "      <td>PP</td>\n",
       "      <td>NaN</td>\n",
       "    </tr>\n",
       "    <tr>\n",
       "      <th>9</th>\n",
       "      <td>10</td>\n",
       "      <td>50000009</td>\n",
       "      <td>10</td>\n",
       "      <td>0</td>\n",
       "      <td>0</td>\n",
       "      <td>1</td>\n",
       "      <td>PUSH SALES</td>\n",
       "      <td>0F28</td>\n",
       "      <td>Southern Sumatera</td>\n",
       "      <td>NaN</td>\n",
       "      <td>...</td>\n",
       "      <td>DG/C15/400EKW/400V 50HZ P SF T</td>\n",
       "      <td>ELECTRIC POWER GENERATION</td>\n",
       "      <td>Bengkulu</td>\n",
       "      <td>2021-10-02</td>\n",
       "      <td>55890.60</td>\n",
       "      <td>USD</td>\n",
       "      <td>E11B0000C15-400</td>\n",
       "      <td>YES</td>\n",
       "      <td>PP</td>\n",
       "      <td>NaN</td>\n",
       "    </tr>\n",
       "  </tbody>\n",
       "</table>\n",
       "<p>10 rows × 23 columns</p>\n",
       "</div>"
      ],
      "text/plain": [
       "   NO  OpportunityID  OpportunityItemNo  SOID  SOItemNo  AccountID  \\\n",
       "0   1       50000000                 30     0         0          1   \n",
       "1   2       50000001                 50     0         0          1   \n",
       "2   3       50000002                 10     0         0          1   \n",
       "3   4       50000003                 20     0         0          1   \n",
       "4   5       50000004                 30     0         0          1   \n",
       "5   6       50000005                 10     0         0          1   \n",
       "6   7       50000006                 10     0         0          1   \n",
       "7   8       50000007                 10     0         0          1   \n",
       "8   9       50000008                 10     0         0          1   \n",
       "9  10       50000009                 10     0         0          1   \n",
       "\n",
       "                                     AccountName sales_off_code  \\\n",
       "0                                            TBA           0G31   \n",
       "1                                            TBA           0G31   \n",
       "2                                            TBA           0G32   \n",
       "3                                            TBA           0G32   \n",
       "4                                            TBA           0G32   \n",
       "5  PUSH SALES- CV. METRO JASA KENDANAGAN/PAK PIO           0A37   \n",
       "6                                            TBA           0G31   \n",
       "7                                            TBA           0G32   \n",
       "8                                     PUSH SALES           0F28   \n",
       "9                                     PUSH SALES           0F28   \n",
       "\n",
       "       SalesOfficeArea  SalesRepsName  ...  \\\n",
       "0  Northern Kalimantan            NaN  ...   \n",
       "1  Northern Kalimantan            NaN  ...   \n",
       "2  Northern Kalimantan            NaN  ...   \n",
       "3  Northern Kalimantan            NaN  ...   \n",
       "4  Northern Kalimantan            NaN  ...   \n",
       "5  Southern Kalimantan            NaN  ...   \n",
       "6  Northern Kalimantan            NaN  ...   \n",
       "7  Northern Kalimantan            NaN  ...   \n",
       "8    Southern Sumatera            NaN  ...   \n",
       "9    Southern Sumatera            NaN  ...   \n",
       "\n",
       "                      ProductDescription               MarketSector  \\\n",
       "0    320 NG-CFG1B/CAB/HDB 1.19CUM/PLE742               CONSTRUCTION   \n",
       "1  320GC-07D/XZ/CAB/GDB 1.0M3/PLE683/783               CONSTRUCTION   \n",
       "2  320GC-07D/XZ/CAB/GDB 1.0M3/PLE683/783               CONSTRUCTION   \n",
       "3  320GC-07D/XZ/CAB/GDB 1.0M3/PLE683/783               CONSTRUCTION   \n",
       "4  320GC-07D/XZ/CAB/GDB 1.0M3/PLE683/783               CONSTRUCTION   \n",
       "5              320GX/CAB/GDB 0.9M3/PL631                AGRICULTURE   \n",
       "6  320GC-07D/XZ/CAB/GDB 1.0M3/PLE683/783               CONSTRUCTION   \n",
       "7  320GC-07D/XZ/CAB/GDB 1.0M3/PLE683/783               CONSTRUCTION   \n",
       "8         305.5E2/CAB/GDB 0.22 CUM/PL243               CONSTRUCTION   \n",
       "9         DG/C15/400EKW/400V 50HZ P SF T  ELECTRIC POWER GENERATION   \n",
       "\n",
       "  PointOfDelivery DeliveryDate   NetValue Currency  ProductHierarchy  \\\n",
       "0      Balikpapan   2021-09-02  114410.91      USD    M11C0000320NGH   \n",
       "1      Balikpapan   2021-09-02  116949.51      USD  M11C0000320GCNGH   \n",
       "2       Samarinda   2021-09-02  116949.51      USD  M11C0000320GCNGH   \n",
       "3       Samarinda   2021-09-02  116949.51      USD  M11C0000320GCNGH   \n",
       "4       Samarinda   2021-09-02  116949.51      USD  M11C0000320GCNGH   \n",
       "5       Pontianak   2021-10-02   87334.73      USD     M11C0000320GX   \n",
       "6      Balikpapan   2021-10-02   96381.35      USD  M11C0000320GCNGH   \n",
       "7       Samarinda   2021-10-02   96381.35      USD  M11C0000320GCNGH   \n",
       "8        Bengkulu   2021-10-02   97993.50      USD     M13C00305.5E2   \n",
       "9        Bengkulu   2021-10-02   55890.60      USD   E11B0000C15-400   \n",
       "\n",
       "   FORECAST sales_type Vertical_Industry  \n",
       "0       YES         PP               NaN  \n",
       "1       YES         PP               NaN  \n",
       "2       YES         PP               NaN  \n",
       "3       YES         PP               NaN  \n",
       "4       YES         PP               NaN  \n",
       "5       YES         PP               NaN  \n",
       "6       YES         PP               NaN  \n",
       "7       YES         PP               NaN  \n",
       "8       YES         PP               NaN  \n",
       "9       YES         PP               NaN  \n",
       "\n",
       "[10 rows x 23 columns]"
      ]
     },
     "execution_count": 4,
     "metadata": {},
     "output_type": "execute_result"
    }
   ],
   "source": [
    "import io\n",
    "import pandas as pd\n",
    "\n",
    "response = File.open_binary(ctx, relative_url)\n",
    "\n",
    "#save data to BytesIO stream\n",
    "bytes_file_obj = io.BytesIO()\n",
    "bytes_file_obj.write(response.content)\n",
    "bytes_file_obj.seek(0) #set file object to start\n",
    "\n",
    "#read file into pandas dataframe\n",
    "df = pd.read_excel(bytes_file_obj)\n",
    "df"
   ]
  },
  {
   "cell_type": "markdown",
   "metadata": {},
   "source": [
    "### Read File from Sharepoint (Product Group Mapping.xlsx) "
   ]
  },
  {
   "cell_type": "code",
   "execution_count": 5,
   "metadata": {},
   "outputs": [
    {
     "name": "stderr",
     "output_type": "stream",
     "text": [
      "C:\\Users\\Fineoz-DS\\Anaconda3\\lib\\site-packages\\cryptography\\hazmat\\backends\\openssl\\x509.py:18: CryptographyDeprecationWarning: This version of cryptography contains a temporary pyOpenSSL fallback path. Upgrade pyOpenSSL now.\n",
      "  utils.DeprecatedIn35,\n"
     ]
    },
    {
     "data": {
      "text/html": [
       "<div>\n",
       "<style scoped>\n",
       "    .dataframe tbody tr th:only-of-type {\n",
       "        vertical-align: middle;\n",
       "    }\n",
       "\n",
       "    .dataframe tbody tr th {\n",
       "        vertical-align: top;\n",
       "    }\n",
       "\n",
       "    .dataframe thead th {\n",
       "        text-align: right;\n",
       "    }\n",
       "</style>\n",
       "<table border=\"1\" class=\"dataframe\">\n",
       "  <thead>\n",
       "    <tr style=\"text-align: right;\">\n",
       "      <th></th>\n",
       "      <th>Family</th>\n",
       "      <th>Model</th>\n",
       "      <th>Product Group</th>\n",
       "    </tr>\n",
       "  </thead>\n",
       "  <tbody>\n",
       "    <tr>\n",
       "      <th>0</th>\n",
       "      <td>MG</td>\n",
       "      <td>14</td>\n",
       "      <td>GCI</td>\n",
       "    </tr>\n",
       "    <tr>\n",
       "      <th>1</th>\n",
       "      <td>MG</td>\n",
       "      <td>16</td>\n",
       "      <td>GCI</td>\n",
       "    </tr>\n",
       "    <tr>\n",
       "      <th>2</th>\n",
       "      <td>MG</td>\n",
       "      <td>18</td>\n",
       "      <td>GCI</td>\n",
       "    </tr>\n",
       "    <tr>\n",
       "      <th>3</th>\n",
       "      <td>MG</td>\n",
       "      <td>24</td>\n",
       "      <td>GCI</td>\n",
       "    </tr>\n",
       "    <tr>\n",
       "      <th>4</th>\n",
       "      <td>MG</td>\n",
       "      <td>140</td>\n",
       "      <td>GCI</td>\n",
       "    </tr>\n",
       "    <tr>\n",
       "      <th>...</th>\n",
       "      <td>...</td>\n",
       "      <td>...</td>\n",
       "      <td>...</td>\n",
       "    </tr>\n",
       "    <tr>\n",
       "      <th>161</th>\n",
       "      <td>LANDFILL COMPACTOR</td>\n",
       "      <td>836</td>\n",
       "      <td>INDUSTRIAL</td>\n",
       "    </tr>\n",
       "    <tr>\n",
       "      <th>162</th>\n",
       "      <td>WHEEL DOZER</td>\n",
       "      <td>814</td>\n",
       "      <td>INDUSTRIAL</td>\n",
       "    </tr>\n",
       "    <tr>\n",
       "      <th>163</th>\n",
       "      <td>WHEEL DOZER</td>\n",
       "      <td>824</td>\n",
       "      <td>INDUSTRIAL</td>\n",
       "    </tr>\n",
       "    <tr>\n",
       "      <th>164</th>\n",
       "      <td>WHEEL DOZER</td>\n",
       "      <td>834</td>\n",
       "      <td>INDUSTRIAL</td>\n",
       "    </tr>\n",
       "    <tr>\n",
       "      <th>165</th>\n",
       "      <td>WHEEL DOZER</td>\n",
       "      <td>844</td>\n",
       "      <td>INDUSTRIAL</td>\n",
       "    </tr>\n",
       "  </tbody>\n",
       "</table>\n",
       "<p>166 rows × 3 columns</p>\n",
       "</div>"
      ],
      "text/plain": [
       "                 Family Model Product Group \n",
       "0                    MG    14            GCI\n",
       "1                    MG    16            GCI\n",
       "2                    MG    18            GCI\n",
       "3                    MG    24            GCI\n",
       "4                    MG   140            GCI\n",
       "..                  ...   ...            ...\n",
       "161  LANDFILL COMPACTOR   836     INDUSTRIAL\n",
       "162         WHEEL DOZER   814     INDUSTRIAL\n",
       "163         WHEEL DOZER   824     INDUSTRIAL\n",
       "164         WHEEL DOZER   834     INDUSTRIAL\n",
       "165         WHEEL DOZER   844     INDUSTRIAL\n",
       "\n",
       "[166 rows x 3 columns]"
      ]
     },
     "execution_count": 5,
     "metadata": {},
     "output_type": "execute_result"
    }
   ],
   "source": [
    "import io\n",
    "import pandas as pd\n",
    "\n",
    "response = File.open_binary(ctx, relative_url_1)\n",
    "\n",
    "#save data to BytesIO stream\n",
    "bytes_file_obj = io.BytesIO()\n",
    "bytes_file_obj.write(response.content)\n",
    "bytes_file_obj.seek(0) #set file object to start\n",
    "\n",
    "#read file into pandas dataframe\n",
    "df_1 = pd.read_excel(bytes_file_obj)\n",
    "df_1"
   ]
  },
  {
   "cell_type": "markdown",
   "metadata": {},
   "source": [
    "# Exploratory Data Analysis "
   ]
  },
  {
   "cell_type": "markdown",
   "metadata": {},
   "source": [
    "## Check Data Type "
   ]
  },
  {
   "cell_type": "code",
   "execution_count": 6,
   "metadata": {},
   "outputs": [
    {
     "name": "stdout",
     "output_type": "stream",
     "text": [
      "Data type of each column of Dataframe :\n",
      "NO                             int64\n",
      "OpportunityID                  int64\n",
      "OpportunityItemNo              int64\n",
      "SOID                           int64\n",
      "SOItemNo                       int64\n",
      "AccountID                      int64\n",
      "AccountName                   object\n",
      "sales_off_code                object\n",
      "SalesOfficeArea               object\n",
      "SalesRepsName                float64\n",
      "SalesExecutiveName           float64\n",
      "OpportunityType               object\n",
      "ProductModel                  object\n",
      "ProductDescription            object\n",
      "MarketSector                  object\n",
      "PointOfDelivery               object\n",
      "DeliveryDate          datetime64[ns]\n",
      "NetValue                     float64\n",
      "Currency                      object\n",
      "ProductHierarchy              object\n",
      "FORECAST                      object\n",
      "sales_type                    object\n",
      "Vertical_Industry            float64\n",
      "dtype: object\n"
     ]
    }
   ],
   "source": [
    "dataTypeSeries = df.dtypes\n",
    "print('Data type of each column of Dataframe :')\n",
    "print(dataTypeSeries)"
   ]
  },
  {
   "cell_type": "code",
   "execution_count": 7,
   "metadata": {},
   "outputs": [
    {
     "data": {
      "text/plain": [
       "0   NaN\n",
       "1   NaN\n",
       "2   NaN\n",
       "3   NaN\n",
       "4   NaN\n",
       "5   NaN\n",
       "6   NaN\n",
       "7   NaN\n",
       "8   NaN\n",
       "9   NaN\n",
       "Name: SalesRepsName, dtype: float64"
      ]
     },
     "execution_count": 7,
     "metadata": {},
     "output_type": "execute_result"
    }
   ],
   "source": [
    "df['SalesRepsName']"
   ]
  },
  {
   "cell_type": "code",
   "execution_count": 8,
   "metadata": {},
   "outputs": [
    {
     "name": "stderr",
     "output_type": "stream",
     "text": [
      "C:\\Users\\Fineoz-DS\\Anaconda3\\lib\\site-packages\\ipykernel_launcher.py:10: UserWarning: Pandas doesn't allow columns to be created via a new attribute name - see https://pandas.pydata.org/pandas-docs/stable/indexing.html#attribute-access\n",
      "  # Remove the CWD from sys.path while we load stuff.\n"
     ]
    }
   ],
   "source": [
    "#AccountID -> string\n",
    "# SalesRepsName ->string\n",
    "# SalesExecutiveName -> string\n",
    "# DeliveryDate -> date\n",
    "# Currency -> string\n",
    "# Vertical_Industry -> string\n",
    "# Change data type\n",
    "# https://www.geeksforgeeks.org/change-the-data-type-of-a-column-or-a-pandas-series/\n",
    "df.AccountID = df.AccountID.astype(str)\n",
    "df.SalesRespName = df.SalesRepsName.astype(str)\n",
    "df.SalesExecutiveName = df.SalesExecutiveName.astype(str)\n",
    "df.Currency = df.Currency.astype(str)\n",
    "df.Vertical_Industry = df.Vertical_Industry.astype(str)\n"
   ]
  },
  {
   "cell_type": "code",
   "execution_count": 9,
   "metadata": {},
   "outputs": [
    {
     "name": "stdout",
     "output_type": "stream",
     "text": [
      "Data type of each column of Dataframe :\n",
      "NO                             int64\n",
      "OpportunityID                  int64\n",
      "OpportunityItemNo              int64\n",
      "SOID                           int64\n",
      "SOItemNo                       int64\n",
      "AccountID                     object\n",
      "AccountName                   object\n",
      "sales_off_code                object\n",
      "SalesOfficeArea               object\n",
      "SalesRepsName                float64\n",
      "SalesExecutiveName            object\n",
      "OpportunityType               object\n",
      "ProductModel                  object\n",
      "ProductDescription            object\n",
      "MarketSector                  object\n",
      "PointOfDelivery               object\n",
      "DeliveryDate          datetime64[ns]\n",
      "NetValue                     float64\n",
      "Currency                      object\n",
      "ProductHierarchy              object\n",
      "FORECAST                      object\n",
      "sales_type                    object\n",
      "Vertical_Industry             object\n",
      "dtype: object\n"
     ]
    }
   ],
   "source": [
    "dataTypeSeries = df.dtypes\n",
    "print('Data type of each column of Dataframe :')\n",
    "print(dataTypeSeries)"
   ]
  },
  {
   "cell_type": "code",
   "execution_count": 10,
   "metadata": {},
   "outputs": [
    {
     "name": "stdout",
     "output_type": "stream",
     "text": [
      "Data type of each column of Dataframe :\n",
      "Family            object\n",
      "Model             object\n",
      "Product Group     object\n",
      "dtype: object\n"
     ]
    }
   ],
   "source": [
    "dataTypeSeries = df_1.dtypes\n",
    "print('Data type of each column of Dataframe :')\n",
    "print(dataTypeSeries)"
   ]
  },
  {
   "cell_type": "markdown",
   "metadata": {},
   "source": [
    "## Check Null Value "
   ]
  },
  {
   "cell_type": "code",
   "execution_count": 11,
   "metadata": {},
   "outputs": [
    {
     "data": {
      "text/plain": [
       "NO                     0\n",
       "OpportunityID          0\n",
       "OpportunityItemNo      0\n",
       "SOID                   0\n",
       "SOItemNo               0\n",
       "AccountID              0\n",
       "AccountName            0\n",
       "sales_off_code         0\n",
       "SalesOfficeArea        0\n",
       "SalesRepsName         10\n",
       "SalesExecutiveName     0\n",
       "OpportunityType        0\n",
       "ProductModel           0\n",
       "ProductDescription     0\n",
       "MarketSector           0\n",
       "PointOfDelivery        0\n",
       "DeliveryDate           0\n",
       "NetValue               0\n",
       "Currency               0\n",
       "ProductHierarchy       0\n",
       "FORECAST               0\n",
       "sales_type             0\n",
       "Vertical_Industry      0\n",
       "dtype: int64"
      ]
     },
     "execution_count": 11,
     "metadata": {},
     "output_type": "execute_result"
    }
   ],
   "source": [
    "df.isnull().sum()"
   ]
  },
  {
   "cell_type": "code",
   "execution_count": 12,
   "metadata": {},
   "outputs": [
    {
     "data": {
      "text/plain": [
       "Family            0\n",
       "Model             0\n",
       "Product Group     0\n",
       "dtype: int64"
      ]
     },
     "execution_count": 12,
     "metadata": {},
     "output_type": "execute_result"
    }
   ],
   "source": [
    "df_1.isnull().sum()"
   ]
  },
  {
   "cell_type": "markdown",
   "metadata": {},
   "source": [
    "## Fill Null Value and Change Data Type"
   ]
  },
  {
   "cell_type": "code",
   "execution_count": 13,
   "metadata": {},
   "outputs": [
    {
     "data": {
      "text/plain": [
       "0    0.0\n",
       "1    0.0\n",
       "2    0.0\n",
       "3    0.0\n",
       "4    0.0\n",
       "5    0.0\n",
       "6    0.0\n",
       "7    0.0\n",
       "8    0.0\n",
       "9    0.0\n",
       "Name: SalesRepsName, dtype: float64"
      ]
     },
     "execution_count": 13,
     "metadata": {},
     "output_type": "execute_result"
    }
   ],
   "source": [
    "# values = {'SalesRepsName': 0, 'SalesExecutiveName': 0, 'Vertical_Industry': 0}\n",
    "# df.fillna(value=values)\n",
    "# df\n",
    "df['SalesRepsName'].fillna(0, inplace = True)\n",
    "df['SalesRepsName']"
   ]
  },
  {
   "cell_type": "code",
   "execution_count": 14,
   "metadata": {},
   "outputs": [
    {
     "name": "stdout",
     "output_type": "stream",
     "text": [
      "Data type of each column of Dataframe :\n",
      "NO                             int64\n",
      "OpportunityID                  int64\n",
      "OpportunityItemNo              int64\n",
      "SOID                           int64\n",
      "SOItemNo                       int64\n",
      "AccountID                     object\n",
      "AccountName                   object\n",
      "sales_off_code                object\n",
      "SalesOfficeArea               object\n",
      "SalesRepsName                 object\n",
      "SalesExecutiveName            object\n",
      "OpportunityType               object\n",
      "ProductModel                  object\n",
      "ProductDescription            object\n",
      "MarketSector                  object\n",
      "PointOfDelivery               object\n",
      "DeliveryDate          datetime64[ns]\n",
      "NetValue                     float64\n",
      "Currency                      object\n",
      "ProductHierarchy              object\n",
      "FORECAST                      object\n",
      "sales_type                    object\n",
      "Vertical_Industry             object\n",
      "dtype: object\n"
     ]
    }
   ],
   "source": [
    "df['SalesRepsName'] = df['SalesRepsName'].to_string()\n",
    "dataTypeSeries = df.dtypes\n",
    "print('Data type of each column of Dataframe :')\n",
    "print(dataTypeSeries)"
   ]
  },
  {
   "cell_type": "code",
   "execution_count": 15,
   "metadata": {},
   "outputs": [
    {
     "data": {
      "text/plain": [
       "NO                    0\n",
       "OpportunityID         0\n",
       "OpportunityItemNo     0\n",
       "SOID                  0\n",
       "SOItemNo              0\n",
       "AccountID             0\n",
       "AccountName           0\n",
       "sales_off_code        0\n",
       "SalesOfficeArea       0\n",
       "SalesRepsName         0\n",
       "SalesExecutiveName    0\n",
       "OpportunityType       0\n",
       "ProductModel          0\n",
       "ProductDescription    0\n",
       "MarketSector          0\n",
       "PointOfDelivery       0\n",
       "DeliveryDate          0\n",
       "NetValue              0\n",
       "Currency              0\n",
       "ProductHierarchy      0\n",
       "FORECAST              0\n",
       "sales_type            0\n",
       "Vertical_Industry     0\n",
       "dtype: int64"
      ]
     },
     "execution_count": 15,
     "metadata": {},
     "output_type": "execute_result"
    }
   ],
   "source": [
    "df.isnull().sum()"
   ]
  },
  {
   "cell_type": "markdown",
   "metadata": {},
   "source": [
    "## Rename Column "
   ]
  },
  {
   "cell_type": "code",
   "execution_count": 16,
   "metadata": {},
   "outputs": [],
   "source": [
    "# # https://datascienceparichay.com/article/pandas-rename-column-names/\n",
    "# df_1 = df_1.set_axis([\"Family\", \"Model\", \"Product_Group\"], axis=1)\n",
    "# df_1"
   ]
  },
  {
   "cell_type": "markdown",
   "metadata": {},
   "source": [
    "## Set Up SQL Server Connection "
   ]
  },
  {
   "cell_type": "code",
   "execution_count": 17,
   "metadata": {},
   "outputs": [],
   "source": [
    "# import pyodbc\n",
    "\n",
    "\n",
    "\n",
    "# conn = pyodbc.connect('Driver={SQL Server};'\n",
    "#                       'Server=DESKTOP-FE21I1E;'\n",
    "#                       'Database=mst;'\n",
    "#                       'Trusted_Connection=yes;')\n",
    "# cursor = conn.cursor()"
   ]
  },
  {
   "cell_type": "code",
   "execution_count": null,
   "metadata": {},
   "outputs": [],
   "source": [
    "import urllib\n",
    "import pymssql\n",
    "from sqlalchemy import create_engine\n",
    "\n",
    "server_name = \"\"\n",
    "username    = \"\"\n",
    "password    = \"\"\n",
    "database    = \"\"\n",
    "# host        = \"\"\n",
    "\n",
    "# Create sqlalchemy engine\n",
    "string_param    = \"DRIVER={ODBC+Driver+17+for+SQL+Server};SERVER=\"+host+\";DATABASE=\"+database+\";UID=\"+username+\";PWD=\"+password+\"\"\n",
    "params          = urllib.parse.quote_plus(string_param)\n",
    "complete_param  = \"mssql+pyodbc:///?odbc_connect={}\".format(params)\n",
    "engine          = create_engine(complete_param, fast_executemany=True)\n",
    "\n",
    "conn =  pymssql.connect(\n",
    "#                         host     = host, \n",
    "                        server   = server_name, \n",
    "                        user     = username, \n",
    "                        password = password,\n",
    "                        database = database)\n",
    "\n",
    "cursor = conn.cursor()"
   ]
  },
  {
   "cell_type": "markdown",
   "metadata": {},
   "source": [
    "## Insert Data into SQL Server Table "
   ]
  },
  {
   "cell_type": "markdown",
   "metadata": {},
   "source": [
    "### draft sharepoint.xlsx "
   ]
  },
  {
   "cell_type": "code",
   "execution_count": null,
   "metadata": {},
   "outputs": [],
   "source": [
    "# for row in df.itertuples():\n",
    "#     cursor.execute(\"\"\"\n",
    "#                 INSERT INTO forecast_script (OpportunityID, OpportunityItemNo, SOID,SOItemNo, AccountID,AccountName,\n",
    "#                 sales_off_code, SalesOfficeArea, SalesRepsName, SalesExecutiveName,OpportunityType, \n",
    "#                 ProductModel,\n",
    "#                 ProductDescription, MarketSector, PointOfDelivery, DeliveryDate, NetValue, Currency, ProductHierarchy,\n",
    "#                 Forecast, sales_type, VerticalIndustry)\n",
    "#                 VALUES (?,?,?,?,?,?,?,?,?,?,?,?,?,?,?,?,?,?,?,?,?,?)\n",
    "#                 \"\"\",\n",
    "#                 row.OpportunityID,\n",
    "#                 row.OpportunityItemNo,\n",
    "#                 row.SOID,\n",
    "#                 row.SOItemNo,\n",
    "#                 row.AccountID,\n",
    "#                 row.AccountName,\n",
    "#                 row.sales_off_code,\n",
    "#                 row.SalesOfficeArea,\n",
    "#                 row.SalesRepsName,\n",
    "#                 row.SalesExecutiveName,\n",
    "#                 row.OpportunityType,\n",
    "#                 row.ProductModel, #12                 \n",
    "#                 row.ProductDescription,\n",
    "#                 row.MarketSector,\n",
    "#                 row.PointOfDelivery,\n",
    "#                 row.DeliveryDate,\n",
    "#                 row.NetValue,\n",
    "#                 row.Currency,\n",
    "#                 row.ProductHierarchy,\n",
    "#                 row.FORECAST,\n",
    "#                 row.sales_type,\n",
    "#                 row.Vertical_Industry\n",
    "#                 )\n",
    "# conn.commit()"
   ]
  },
  {
   "cell_type": "code",
   "execution_count": 33,
   "metadata": {},
   "outputs": [],
   "source": [
    "for row in df.itertuples():\n",
    "    cursor.execute(\"\"\"\n",
    "                INSERT INTO forecast_script (OpportunityID,OpportunityItemNo,SOID,SOItemNo,AccountID,AccountName,sales_off_code,SalesOfficeArea,SalesRepsName,SalesExecutiveName,OpportunityType,ProductModel,ProductDescription,MarketSector,PointOfDelivery,DeliveryDate,NetValue,Currency,ProductHierarchy,FORECAST,sales_type,VerticalIndustry)\n",
    "                VALUES (%s,%s,%s,%s,%s,%s,%s,%s,%s,%s,%s,%s,%s,%s,%s,%s,%s,%s,%s,%s,%s,%s)\n",
    "                \"\"\",\n",
    "                (row.OpportunityID,   \n",
    "                row.OpportunityItemNo, \n",
    "                row.SOID,\n",
    "                row.SOItemNo,\n",
    "                row.AccountID,\n",
    "                row.AccountName,\n",
    "                row.sales_off_code,\n",
    "                row.SalesOfficeArea,\n",
    "                row.SalesRepsName,   \n",
    "                row.SalesExecutiveName,\n",
    "                row.OpportunityType,\n",
    "                row.ProductModel,\n",
    "                row.ProductDescription,\n",
    "                row.MarketSector,\n",
    "                row.PointOfDelivery,\n",
    "                row.DeliveryDate,\n",
    "                row.NetValue,\n",
    "                row.Currency,\n",
    "                row.ProductHierarchy,\n",
    "                row.FORECAST,\n",
    "                row.sales_type,\n",
    "                row.Vertical_Industry)   \n",
    "                )\n",
    "conn.commit()"
   ]
  },
  {
   "cell_type": "code",
   "execution_count": 34,
   "metadata": {},
   "outputs": [],
   "source": [
    "# for row in df.itertuples():\n",
    "#     cursor.execute(\n",
    "#                     \"\"\"INSERT INTO forecast_script (OpportunityID, OpportunityItemNo, SOID, SOItemNo, AccountID, AccountName, sales_off_code,SalesOfficeArea,SalesRepsName,SalesExecutiveName,OpportunityType,ProductModel,ProductDescription,MarketSector,PointOfDelivery,DeliveryDate) \n",
    "#                     VALUES (%s,%s,%s,%s,%s,%s,%s,%s,%s,%s,%s,%s,%s,%s,%s,%s)\"\"\", \n",
    "#                     (row.OpportunityID,   \n",
    "#                     row.OpportunityItemNo, \n",
    "#                     row.SOID,\n",
    "#                     row.SOItemNo,\n",
    "#                     row.AccountID,\n",
    "#                     row.AccountName,\n",
    "#                     row.sales_off_code,\n",
    "#                     row.SalesOfficeArea,\n",
    "#                     row.SalesRepsName,\n",
    "#                     row.SalesExecutiveName,\n",
    "#                     row.OpportunityType,\n",
    "#                     row.ProductModel,\n",
    "#                     row.ProductDescription,\n",
    "#                     row.MarketSector,\n",
    "#                     row.PointOfDelivery,\n",
    "#                     row.DeliveryDate,\n",
    "                    \n",
    "#                     ))\n",
    "# conn.commit()"
   ]
  },
  {
   "cell_type": "markdown",
   "metadata": {},
   "source": [
    "### Product Group Mapping.xlsx "
   ]
  },
  {
   "cell_type": "code",
   "execution_count": null,
   "metadata": {},
   "outputs": [],
   "source": [
    "# for row in df_1.itertuples():\n",
    "#     cursor.execute(\"\"\"\n",
    "#                 INSERT INTO Product_Group_Mapping (Family, Model, [Product Group])\n",
    "#                 VALUES (?,?,?)\n",
    "#                 \"\"\",\n",
    "#                 row.Family,\n",
    "#                 row.Model,\n",
    "#                 row.Product_Group,               \n",
    "#                 )\n",
    "# conn.commit()"
   ]
  },
  {
   "cell_type": "code",
   "execution_count": null,
   "metadata": {},
   "outputs": [],
   "source": [
    "# df.drop(['NO'], axis=1)"
   ]
  },
  {
   "cell_type": "code",
   "execution_count": null,
   "metadata": {},
   "outputs": [],
   "source": [
    "# for row in df.itertuples():\n",
    "#     cursor.execute(\"INSERT INTO forecast_script (OpportunityID) values (?)\",row.OpportunityID)\n",
    "# conn.commit()"
   ]
  },
  {
   "cell_type": "code",
   "execution_count": null,
   "metadata": {},
   "outputs": [],
   "source": []
  }
 ],
 "metadata": {
  "kernelspec": {
   "display_name": "Python 3",
   "language": "python",
   "name": "python3"
  },
  "language_info": {
   "codemirror_mode": {
    "name": "ipython",
    "version": 3
   },
   "file_extension": ".py",
   "mimetype": "text/x-python",
   "name": "python",
   "nbconvert_exporter": "python",
   "pygments_lexer": "ipython3",
   "version": "3.7.4"
  }
 },
 "nbformat": 4,
 "nbformat_minor": 2
}
